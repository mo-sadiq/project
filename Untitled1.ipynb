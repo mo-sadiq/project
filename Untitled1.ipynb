{
  "metadata": {
    "language_info": {
      "codemirror_mode": {
        "name": "python",
        "version": 3
      },
      "file_extension": ".py",
      "mimetype": "text/x-python",
      "name": "python",
      "nbconvert_exporter": "python",
      "pygments_lexer": "ipython3",
      "version": "3.8"
    },
    "kernelspec": {
      "name": "python",
      "display_name": "Pyolite",
      "language": "python"
    },
    "toc-autonumbering": true,
    "toc-showmarkdowntxt": true,
    "toc-showtags": false,
    "toc-showcode": false
  },
  "nbformat_minor": 4,
  "nbformat": 4,
  "cells": [
    {
      "cell_type": "markdown",
      "source": "# \"My Jupyter Notebook on IBM Watson Studio\"",
      "metadata": {}
    },
    {
      "cell_type": "markdown",
      "source": "## Mohamed sadiq\n\n\n\nBiomedical enginerr\n\n",
      "metadata": {}
    },
    {
      "cell_type": "markdown",
      "source": "## I am interested in data science because I live the learning, and to improve my skills to achieve my goal.",
      "metadata": {}
    },
    {
      "cell_type": "markdown",
      "source": "### add x and y, then print it at z ",
      "metadata": {}
    },
    {
      "cell_type": "code",
      "source": "x= 1335\ny= 2589\nz= x+y\nprint(z)",
      "metadata": {
        "trusted": true
      },
      "execution_count": 2,
      "outputs": [
        {
          "name": "stdout",
          "text": "3924\n",
          "output_type": "stream"
        }
      ]
    },
    {
      "cell_type": "markdown",
      "source": "<a href=\"https://i.pinimg.com/564x/68/09/cd/6809cd4c370a3b6e4aaac4fea51e0cea.jpghttps://i.pinimg.com/564x/68/09/cd/6809cd4c370a3b6e4aaac4fea51e0cea.jpg\"> tokyo gohal </a>",
      "metadata": {}
    },
    {
      "cell_type": "code",
      "source": "",
      "metadata": {},
      "execution_count": null,
      "outputs": []
    }
  ]
}